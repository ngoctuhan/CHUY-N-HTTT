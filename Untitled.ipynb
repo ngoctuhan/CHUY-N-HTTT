{
 "cells": [
  {
   "cell_type": "markdown",
   "metadata": {},
   "source": [
    "## ĐÁNH GIÁ SO SÁNH CÁC THUẬT TOÁN DATA ANALYS \n",
    "\n",
    "  ## CHO \n",
    "\n",
    "## BÀI TOÁN DỰ ĐOÁN KHÁCH HÀNG CÓ HỦY ĐẶT PHÒNG HAY KHÔNG ?\n",
    "\n"
   ]
  },
  {
   "cell_type": "markdown",
   "metadata": {},
   "source": [
    "Đối với khách sạn và nhà hàng, hủy đặt hẹn của khách hàng gây tổn thất lớn đến doanh số kinh doanh. Không chỉ doanh thu giảm, mà chi phí nhân công và nguyên liệu để cung cấp dịch vụ cho một lịch hẹn cũng tổn thất.\n",
    "\n",
    "Trong cuộc thi này, yêu cầu đưa ra là phân loại những đặt phòng sẽ bị hủy và những đặt phòng bình thường, sử dụng bộ dữ liệu hơn 100 nghìn đặt phòng. Bộ dữ liệu sử dụng thông tin đặt phòng trên thực tế ở một số thành phố tại Bồ Đào Nha. Không chỉ là dự đoán hủy đặt phòng đơn thuần, đây là một thử thách mang ý nghĩa đối với xã hội, có thể được áp dụng rộng rãi, ví dụ như để phân tích nguyên nhân dẫn đến hủy đặt phòng trong tương lai."
   ]
  },
  {
   "cell_type": "markdown",
   "metadata": {},
   "source": [
    "### 1. DATASET\n",
    "\n",
    "Bộ dữ liệu bao gồm 40 nghìn dữ liệu của khách sạn Resort và 80 nghìn dữ liệu của khách sạn City. Dữ liệu của khách sạn Resort thuộc về vùng Algarve, còn khách sạn City là của thủ đô Lisbon. \n",
    "\n",
    "Dựa trên dữ liệu đặt phòng từ ngày 2015/07/01 đến 2017/06/30, bạn hãy dự đoán liệu khoảng thời gian từ 2017/07/01 đến 2017/8/31 có phát sinh đặt phòng bị hủy hay không.\n",
    "\n",
    "Giải thích ý nghĩa column:\n",
    "\n",
    "* hotel：City hotel hoặc Resort Hotel\n",
    "* is_canceled：Cho dù nó đã bị hủy\n",
    "* lead_time：Số ngày từ khi đặt phòng đến ngày nghỉ trọ.\n",
    "* stays_in_weekend_nights：Số ngày đặt phòng và nghỉ lại (Thứ 7, Chủ Nhật)\n",
    "* stays_in_week_nights：Số ngày đặt phòng và nghỉ lại (Thứ 2 ~ Thứ 6)\n",
    "* adults：Số lượng người lớn\n",
    "* children：Số trẻ em\n",
    "* babies：Số em bé\n",
    "* meal：Loại bữa ăn dành riêng\n",
    "* country：Quốc gia.\n",
    "* market_segment：Phân loại thị trường(TA：Đại lý du lịch、TO：Điều hành du lịch)\n",
    "* distribution_channel：kênh cung cấp(TA：Đại lý du lịch、TO：Điều hành du lịch)\n",
    "* is_repeated_guest：có phải repeater hay không\n",
    "* previous_cancellations：Đã từng hủy đặt phòng trước đây\n",
    "* previous_bookings_not_canceled：chưa từng hủy đặt phòng trước đây\n",
    "* reserved_room_type：Loại phòng đặt\n",
    "* assigned_room_type：Loại phòng sắp xếp\n",
    "* booking_changes：Số lần thay đổi đặt phòng\n",
    "* agent：ẩn\n",
    "* company：ẩn\n",
    "* days_in_waiting_list：Số ngày lấy được xác nhận của khách hàng.\n",
    "* customer_type：loại khách hàng\n",
    "* adr：Tỉ giá trung bình ngày nghỉ trọ\n",
    "* required_car_parking_spaces：Yêu cầu bao nhiêu chỗ đỗ xe\n",
    "* total_of_special_requests：Số lượng yêu cầu đặc biệt.\n",
    "* arrival_date：Ngày đến"
   ]
  },
  {
   "cell_type": "markdown",
   "metadata": {},
   "source": [
    "### 2. THUẬT TOÁN THỬ NGHIỆM\n",
    "\n",
    "* Cây quyết định (CART, ID3)\n",
    "\n",
    "* Rừng ngẫu nhiên\n",
    "\n",
    "* XGBoot\n",
    "\n",
    "* LightGBM\n",
    "\n",
    "* Mạng noron MLP\n",
    "\n",
    "* Logistic Regression"
   ]
  },
  {
   "cell_type": "markdown",
   "metadata": {},
   "source": [
    "### 3. TRIỂN KHAI"
   ]
  },
  {
   "cell_type": "code",
   "execution_count": 21,
   "metadata": {},
   "outputs": [
    {
     "name": "stdout",
     "output_type": "stream",
     "text": [
      "Number colums:  26\n"
     ]
    }
   ],
   "source": [
    "\n",
    "import pandas as pd \n",
    "import numpy as np \n",
    "import os \n",
    "\n",
    "df = pd.read_csv('dataset/train.csv')\n",
    "\n",
    "labels = ['is_canceled']\n",
    "\n",
    "# define type of columns\n",
    "catetory = ['hotel', 'meal', 'country', 'reserved_room_type', 'assigned_room_type', 'market_segment', 'distribution_channel', 'customer_type']\n",
    "\n",
    "options = []\n",
    "\n",
    "odering = []\n",
    "\n",
    "date = ['arrival_date']\n",
    "\n",
    "normalized = ['lead_time', 'stays_in_weekend_nights', 'stays_in_week_nights', 'adults', 'children', 'babies', 'booking_changes', 'days_in_waiting_list', 'adr', 'required_car_parking_spaces', 'total_of_special_requests']\n",
    "\n",
    "catetory_dn_normalized = ['is_repeated_guest', 'previous_bookings_not_canceled', 'previous_cancellations']\n",
    "\n",
    "dont_know = ['agent', 'company']\n",
    "\n",
    "print(\"Number colums: \" ,len(labels) +  len(catetory) +  len(options) + len(odering) +  len(date) +  len(normalized) +  len(catetory_dn_normalized) + len(dont_know))"
   ]
  },
  {
   "cell_type": "markdown",
   "metadata": {},
   "source": [
    "CÁC THAO TÁC CHUẨN HÓA DỮ LIỆU\n",
    "\n",
    "* Bước 1: Sàng lọc các cột dữ liệu trong bảng thành nhóm khác nhau, với mỗi nhóm sẽ có một tiền xử lý dữ liệu riêng\n",
    "\n",
    "* Bước 2: Với mỗi nhóm dữ liệu khác nhau thì sẽ chuẩn hóa khác nhau:\n",
    "\n",
    "    + Dữ liệu phân loại: Encoder, hoặc covert sang vector OneHotEncoder\n",
    "    \n",
    "    + Dữ liệu normalize: được chuẩn hóa đưa dữ liệu về khoảng (0,1) MinmaxScaler, (MEAN = 0, STD = 1)\n",
    "    \n",
    "    + Dữ liệu date: chuẩn hóa diff_time với mốc thời gian, nhưng trong dataset này thì đưa dữ liệu data thành dữ liệu phân loại bằng việc gộp nhóm ngày tháng theo mùa trong năm. \n",
    "    \n",
    "    + Dữ liệu không biết ý nghĩa: Kiểm tra phân phối, xác định loại dữ liệu mỗi bản ghi thường các cột mà không biết ý nghĩa là cột mang ý nghĩa cáo giúp cải thiện hiệu quả bài toán.\n",
    "    \n",
    "    + Dữ liệu options: mỗi bản ghi có thể có nhiều lựa chọn, cần mã hóa sự lựa chọn thành vector OneHotEncoder \n",
    "    \n",
    "    + Dữ liệu có thứ tự: Encoder và dùng nó như dữ liệu normalize chứ không phải dữ liệu normalize.\n",
    "    \n",
    "    + Tìm mỗi liên quan, tương quan giữa các cột để tìm ra những đặc trưng mới.\n",
    "    \n",
    "* Bước 3: Chia dữ liệu thành 2 phần trainning và testting và kiểm thử trên các mô hình khác nhau\n"
   ]
  },
  {
   "cell_type": "code",
   "execution_count": 5,
   "metadata": {},
   "outputs": [
    {
     "data": {
      "text/html": [
       "<div>\n",
       "<style scoped>\n",
       "    .dataframe tbody tr th:only-of-type {\n",
       "        vertical-align: middle;\n",
       "    }\n",
       "\n",
       "    .dataframe tbody tr th {\n",
       "        vertical-align: top;\n",
       "    }\n",
       "\n",
       "    .dataframe thead th {\n",
       "        text-align: right;\n",
       "    }\n",
       "</style>\n",
       "<table border=\"1\" class=\"dataframe\">\n",
       "  <thead>\n",
       "    <tr style=\"text-align: right;\">\n",
       "      <th></th>\n",
       "      <th>id</th>\n",
       "      <th>is_canceled</th>\n",
       "      <th>lead_time</th>\n",
       "      <th>stays_in_weekend_nights</th>\n",
       "      <th>stays_in_week_nights</th>\n",
       "      <th>adults</th>\n",
       "      <th>children</th>\n",
       "      <th>babies</th>\n",
       "      <th>is_repeated_guest</th>\n",
       "      <th>previous_cancellations</th>\n",
       "      <th>previous_bookings_not_canceled</th>\n",
       "      <th>booking_changes</th>\n",
       "      <th>agent</th>\n",
       "      <th>company</th>\n",
       "      <th>days_in_waiting_list</th>\n",
       "      <th>adr</th>\n",
       "      <th>required_car_parking_spaces</th>\n",
       "      <th>total_of_special_requests</th>\n",
       "    </tr>\n",
       "  </thead>\n",
       "  <tbody>\n",
       "    <tr>\n",
       "      <td>count</td>\n",
       "      <td>108785.000000</td>\n",
       "      <td>108785.000000</td>\n",
       "      <td>108785.000000</td>\n",
       "      <td>108785.000000</td>\n",
       "      <td>108785.000000</td>\n",
       "      <td>108785.000000</td>\n",
       "      <td>108785.000000</td>\n",
       "      <td>108785.000000</td>\n",
       "      <td>108785.000000</td>\n",
       "      <td>108785.000000</td>\n",
       "      <td>108785.000000</td>\n",
       "      <td>108785.000000</td>\n",
       "      <td>108785.000000</td>\n",
       "      <td>108785.000000</td>\n",
       "      <td>108785.000000</td>\n",
       "      <td>108785.000000</td>\n",
       "      <td>108785.000000</td>\n",
       "      <td>108785.000000</td>\n",
       "    </tr>\n",
       "    <tr>\n",
       "      <td>mean</td>\n",
       "      <td>54393.000000</td>\n",
       "      <td>0.370685</td>\n",
       "      <td>100.159847</td>\n",
       "      <td>0.909445</td>\n",
       "      <td>2.464935</td>\n",
       "      <td>1.845264</td>\n",
       "      <td>0.092375</td>\n",
       "      <td>0.007951</td>\n",
       "      <td>0.032541</td>\n",
       "      <td>0.094406</td>\n",
       "      <td>0.136958</td>\n",
       "      <td>0.211748</td>\n",
       "      <td>73.228892</td>\n",
       "      <td>11.422411</td>\n",
       "      <td>2.540249</td>\n",
       "      <td>97.085407</td>\n",
       "      <td>0.063097</td>\n",
       "      <td>0.544239</td>\n",
       "    </tr>\n",
       "    <tr>\n",
       "      <td>std</td>\n",
       "      <td>31403.668854</td>\n",
       "      <td>0.482991</td>\n",
       "      <td>104.953130</td>\n",
       "      <td>0.992503</td>\n",
       "      <td>1.887034</td>\n",
       "      <td>0.582494</td>\n",
       "      <td>0.377309</td>\n",
       "      <td>0.098157</td>\n",
       "      <td>0.177433</td>\n",
       "      <td>0.881879</td>\n",
       "      <td>1.448224</td>\n",
       "      <td>0.626862</td>\n",
       "      <td>106.042608</td>\n",
       "      <td>55.208098</td>\n",
       "      <td>18.401511</td>\n",
       "      <td>46.910659</td>\n",
       "      <td>0.246518</td>\n",
       "      <td>0.777150</td>\n",
       "    </tr>\n",
       "    <tr>\n",
       "      <td>min</td>\n",
       "      <td>1.000000</td>\n",
       "      <td>0.000000</td>\n",
       "      <td>0.000000</td>\n",
       "      <td>0.000000</td>\n",
       "      <td>0.000000</td>\n",
       "      <td>0.000000</td>\n",
       "      <td>0.000000</td>\n",
       "      <td>0.000000</td>\n",
       "      <td>0.000000</td>\n",
       "      <td>0.000000</td>\n",
       "      <td>0.000000</td>\n",
       "      <td>0.000000</td>\n",
       "      <td>0.000000</td>\n",
       "      <td>0.000000</td>\n",
       "      <td>0.000000</td>\n",
       "      <td>-6.380000</td>\n",
       "      <td>0.000000</td>\n",
       "      <td>0.000000</td>\n",
       "    </tr>\n",
       "    <tr>\n",
       "      <td>25%</td>\n",
       "      <td>27197.000000</td>\n",
       "      <td>0.000000</td>\n",
       "      <td>17.000000</td>\n",
       "      <td>0.000000</td>\n",
       "      <td>1.000000</td>\n",
       "      <td>2.000000</td>\n",
       "      <td>0.000000</td>\n",
       "      <td>0.000000</td>\n",
       "      <td>0.000000</td>\n",
       "      <td>0.000000</td>\n",
       "      <td>0.000000</td>\n",
       "      <td>0.000000</td>\n",
       "      <td>6.000000</td>\n",
       "      <td>0.000000</td>\n",
       "      <td>0.000000</td>\n",
       "      <td>66.500000</td>\n",
       "      <td>0.000000</td>\n",
       "      <td>0.000000</td>\n",
       "    </tr>\n",
       "    <tr>\n",
       "      <td>50%</td>\n",
       "      <td>54393.000000</td>\n",
       "      <td>0.000000</td>\n",
       "      <td>65.000000</td>\n",
       "      <td>1.000000</td>\n",
       "      <td>2.000000</td>\n",
       "      <td>2.000000</td>\n",
       "      <td>0.000000</td>\n",
       "      <td>0.000000</td>\n",
       "      <td>0.000000</td>\n",
       "      <td>0.000000</td>\n",
       "      <td>0.000000</td>\n",
       "      <td>0.000000</td>\n",
       "      <td>9.000000</td>\n",
       "      <td>0.000000</td>\n",
       "      <td>0.000000</td>\n",
       "      <td>90.000000</td>\n",
       "      <td>0.000000</td>\n",
       "      <td>0.000000</td>\n",
       "    </tr>\n",
       "    <tr>\n",
       "      <td>75%</td>\n",
       "      <td>81589.000000</td>\n",
       "      <td>1.000000</td>\n",
       "      <td>152.000000</td>\n",
       "      <td>2.000000</td>\n",
       "      <td>3.000000</td>\n",
       "      <td>2.000000</td>\n",
       "      <td>0.000000</td>\n",
       "      <td>0.000000</td>\n",
       "      <td>0.000000</td>\n",
       "      <td>0.000000</td>\n",
       "      <td>0.000000</td>\n",
       "      <td>0.000000</td>\n",
       "      <td>142.000000</td>\n",
       "      <td>0.000000</td>\n",
       "      <td>0.000000</td>\n",
       "      <td>120.000000</td>\n",
       "      <td>0.000000</td>\n",
       "      <td>1.000000</td>\n",
       "    </tr>\n",
       "    <tr>\n",
       "      <td>max</td>\n",
       "      <td>108785.000000</td>\n",
       "      <td>1.000000</td>\n",
       "      <td>737.000000</td>\n",
       "      <td>19.000000</td>\n",
       "      <td>50.000000</td>\n",
       "      <td>55.000000</td>\n",
       "      <td>10.000000</td>\n",
       "      <td>10.000000</td>\n",
       "      <td>1.000000</td>\n",
       "      <td>26.000000</td>\n",
       "      <td>67.000000</td>\n",
       "      <td>18.000000</td>\n",
       "      <td>535.000000</td>\n",
       "      <td>539.000000</td>\n",
       "      <td>391.000000</td>\n",
       "      <td>5400.000000</td>\n",
       "      <td>8.000000</td>\n",
       "      <td>5.000000</td>\n",
       "    </tr>\n",
       "  </tbody>\n",
       "</table>\n",
       "</div>"
      ],
      "text/plain": [
       "                  id    is_canceled      lead_time  stays_in_weekend_nights  \\\n",
       "count  108785.000000  108785.000000  108785.000000            108785.000000   \n",
       "mean    54393.000000       0.370685     100.159847                 0.909445   \n",
       "std     31403.668854       0.482991     104.953130                 0.992503   \n",
       "min         1.000000       0.000000       0.000000                 0.000000   \n",
       "25%     27197.000000       0.000000      17.000000                 0.000000   \n",
       "50%     54393.000000       0.000000      65.000000                 1.000000   \n",
       "75%     81589.000000       1.000000     152.000000                 2.000000   \n",
       "max    108785.000000       1.000000     737.000000                19.000000   \n",
       "\n",
       "       stays_in_week_nights         adults       children         babies  \\\n",
       "count         108785.000000  108785.000000  108785.000000  108785.000000   \n",
       "mean               2.464935       1.845264       0.092375       0.007951   \n",
       "std                1.887034       0.582494       0.377309       0.098157   \n",
       "min                0.000000       0.000000       0.000000       0.000000   \n",
       "25%                1.000000       2.000000       0.000000       0.000000   \n",
       "50%                2.000000       2.000000       0.000000       0.000000   \n",
       "75%                3.000000       2.000000       0.000000       0.000000   \n",
       "max               50.000000      55.000000      10.000000      10.000000   \n",
       "\n",
       "       is_repeated_guest  previous_cancellations  \\\n",
       "count      108785.000000           108785.000000   \n",
       "mean            0.032541                0.094406   \n",
       "std             0.177433                0.881879   \n",
       "min             0.000000                0.000000   \n",
       "25%             0.000000                0.000000   \n",
       "50%             0.000000                0.000000   \n",
       "75%             0.000000                0.000000   \n",
       "max             1.000000               26.000000   \n",
       "\n",
       "       previous_bookings_not_canceled  booking_changes          agent  \\\n",
       "count                   108785.000000    108785.000000  108785.000000   \n",
       "mean                         0.136958         0.211748      73.228892   \n",
       "std                          1.448224         0.626862     106.042608   \n",
       "min                          0.000000         0.000000       0.000000   \n",
       "25%                          0.000000         0.000000       6.000000   \n",
       "50%                          0.000000         0.000000       9.000000   \n",
       "75%                          0.000000         0.000000     142.000000   \n",
       "max                         67.000000        18.000000     535.000000   \n",
       "\n",
       "             company  days_in_waiting_list            adr  \\\n",
       "count  108785.000000         108785.000000  108785.000000   \n",
       "mean       11.422411              2.540249      97.085407   \n",
       "std        55.208098             18.401511      46.910659   \n",
       "min         0.000000              0.000000      -6.380000   \n",
       "25%         0.000000              0.000000      66.500000   \n",
       "50%         0.000000              0.000000      90.000000   \n",
       "75%         0.000000              0.000000     120.000000   \n",
       "max       539.000000            391.000000    5400.000000   \n",
       "\n",
       "       required_car_parking_spaces  total_of_special_requests  \n",
       "count                108785.000000              108785.000000  \n",
       "mean                      0.063097                   0.544239  \n",
       "std                       0.246518                   0.777150  \n",
       "min                       0.000000                   0.000000  \n",
       "25%                       0.000000                   0.000000  \n",
       "50%                       0.000000                   0.000000  \n",
       "75%                       0.000000                   1.000000  \n",
       "max                       8.000000                   5.000000  "
      ]
     },
     "execution_count": 5,
     "metadata": {},
     "output_type": "execute_result"
    }
   ],
   "source": [
    "df.describe()"
   ]
  },
  {
   "cell_type": "code",
   "execution_count": 22,
   "metadata": {},
   "outputs": [
    {
     "name": "stderr",
     "output_type": "stream",
     "text": [
      "C:\\Users\\trung\\Anaconda3\\lib\\site-packages\\ipykernel_launcher.py:10: SettingWithCopyWarning: \n",
      "A value is trying to be set on a copy of a slice from a DataFrame.\n",
      "Try using .loc[row_indexer,col_indexer] = value instead\n",
      "\n",
      "See the caveats in the documentation: http://pandas.pydata.org/pandas-docs/stable/user_guide/indexing.html#returning-a-view-versus-a-copy\n",
      "  # Remove the CWD from sys.path while we load stuff.\n"
     ]
    },
    {
     "data": {
      "text/plain": [
       "(108785, 8)"
      ]
     },
     "execution_count": 22,
     "metadata": {},
     "output_type": "execute_result"
    }
   ],
   "source": [
    "from sklearn.preprocessing import LabelEncoder\n",
    "\n",
    "y = df[labels[0]].values # vector labels\n",
    "\n",
    "# pre processing for catetory colum\n",
    "ft_cat = df[catetory]\n",
    "le = LabelEncoder()\n",
    "for colum in catetory:\n",
    "    \n",
    "    ft_cat[colum] = le.fit_transform(ft_cat[colum]) \n",
    "\n",
    "ft_cat = ft_cat.values\n",
    "ft_cat.shape"
   ]
  },
  {
   "cell_type": "code",
   "execution_count": 15,
   "metadata": {},
   "outputs": [
    {
     "name": "stdout",
     "output_type": "stream",
     "text": [
      "['Aviation' 'Complementary' 'Corporate' 'Direct' 'Groups' 'Offline TA/TO'\n",
      " 'Online TA' 'Undefined']\n",
      "['Corporate' 'Direct' 'GDS' 'TA/TO' 'Undefined']\n"
     ]
    }
   ],
   "source": [
    "### QUAN SÁT CÁC CỘT\n",
    "\n",
    "def prepare_data_options(arr):\n",
    "    unique = np.unique(arr)\n",
    "    print(unique)\n",
    "    \n",
    "#pre processing for options colum\n",
    "ft_options = df[options]\n",
    "for colum in options:\n",
    "    ft_options = df[colum].values\n",
    "    prepare_data_options(ft_options)\n"
   ]
  },
  {
   "cell_type": "code",
   "execution_count": 18,
   "metadata": {},
   "outputs": [
    {
     "name": "stdout",
     "output_type": "stream",
     "text": [
      "['Contract' 'Group' 'Transient' 'Transient-Party']\n"
     ]
    }
   ],
   "source": [
    "\n",
    "prepare_data_options(df['customer_type'].values)"
   ]
  },
  {
   "cell_type": "code",
   "execution_count": 26,
   "metadata": {},
   "outputs": [
    {
     "data": {
      "text/plain": [
       "(108785, 3)"
      ]
     },
     "execution_count": 26,
     "metadata": {},
     "output_type": "execute_result"
    }
   ],
   "source": [
    "ft_dn_normalize = df[catetory_dn_normalized].values\n",
    "\n",
    "ft_dn_normalize.shape"
   ]
  },
  {
   "cell_type": "code",
   "execution_count": 28,
   "metadata": {},
   "outputs": [
    {
     "name": "stdout",
     "output_type": "stream",
     "text": [
      "[ 0.  3.  6.  9. 12.]\n"
     ]
    }
   ],
   "source": [
    "bins =  np.linspace(0,12,5)\n",
    "print(bins)"
   ]
  },
  {
   "cell_type": "code",
   "execution_count": 35,
   "metadata": {},
   "outputs": [
    {
     "data": {
      "text/plain": [
       "(108785, 1)"
      ]
     },
     "execution_count": 35,
     "metadata": {},
     "output_type": "execute_result"
    }
   ],
   "source": [
    "ft_date = df[date[0]].values\n",
    "\n",
    "ft_date = np.array([int(str(i).split('-')[1])  for i in ft_date]).reshape(-1, 1)\n",
    "\n",
    "ft_date.shape"
   ]
  },
  {
   "cell_type": "code",
   "execution_count": 49,
   "metadata": {},
   "outputs": [
    {
     "name": "stderr",
     "output_type": "stream",
     "text": [
      "C:\\Users\\trung\\Anaconda3\\lib\\site-packages\\ipykernel_launcher.py:6: SettingWithCopyWarning: \n",
      "A value is trying to be set on a copy of a slice from a DataFrame.\n",
      "Try using .loc[row_indexer,col_indexer] = value instead\n",
      "\n",
      "See the caveats in the documentation: http://pandas.pydata.org/pandas-docs/stable/user_guide/indexing.html#returning-a-view-versus-a-copy\n",
      "  \n",
      "C:\\Users\\trung\\Anaconda3\\lib\\site-packages\\ipykernel_launcher.py:6: SettingWithCopyWarning: \n",
      "A value is trying to be set on a copy of a slice from a DataFrame.\n",
      "Try using .loc[row_indexer,col_indexer] = value instead\n",
      "\n",
      "See the caveats in the documentation: http://pandas.pydata.org/pandas-docs/stable/user_guide/indexing.html#returning-a-view-versus-a-copy\n",
      "  \n",
      "C:\\Users\\trung\\Anaconda3\\lib\\site-packages\\ipykernel_launcher.py:6: SettingWithCopyWarning: \n",
      "A value is trying to be set on a copy of a slice from a DataFrame.\n",
      "Try using .loc[row_indexer,col_indexer] = value instead\n",
      "\n",
      "See the caveats in the documentation: http://pandas.pydata.org/pandas-docs/stable/user_guide/indexing.html#returning-a-view-versus-a-copy\n",
      "  \n",
      "C:\\Users\\trung\\Anaconda3\\lib\\site-packages\\ipykernel_launcher.py:6: SettingWithCopyWarning: \n",
      "A value is trying to be set on a copy of a slice from a DataFrame.\n",
      "Try using .loc[row_indexer,col_indexer] = value instead\n",
      "\n",
      "See the caveats in the documentation: http://pandas.pydata.org/pandas-docs/stable/user_guide/indexing.html#returning-a-view-versus-a-copy\n",
      "  \n",
      "C:\\Users\\trung\\Anaconda3\\lib\\site-packages\\ipykernel_launcher.py:6: SettingWithCopyWarning: \n",
      "A value is trying to be set on a copy of a slice from a DataFrame.\n",
      "Try using .loc[row_indexer,col_indexer] = value instead\n",
      "\n",
      "See the caveats in the documentation: http://pandas.pydata.org/pandas-docs/stable/user_guide/indexing.html#returning-a-view-versus-a-copy\n",
      "  \n",
      "C:\\Users\\trung\\Anaconda3\\lib\\site-packages\\ipykernel_launcher.py:6: SettingWithCopyWarning: \n",
      "A value is trying to be set on a copy of a slice from a DataFrame.\n",
      "Try using .loc[row_indexer,col_indexer] = value instead\n",
      "\n",
      "See the caveats in the documentation: http://pandas.pydata.org/pandas-docs/stable/user_guide/indexing.html#returning-a-view-versus-a-copy\n",
      "  \n",
      "C:\\Users\\trung\\Anaconda3\\lib\\site-packages\\ipykernel_launcher.py:6: SettingWithCopyWarning: \n",
      "A value is trying to be set on a copy of a slice from a DataFrame.\n",
      "Try using .loc[row_indexer,col_indexer] = value instead\n",
      "\n",
      "See the caveats in the documentation: http://pandas.pydata.org/pandas-docs/stable/user_guide/indexing.html#returning-a-view-versus-a-copy\n",
      "  \n",
      "C:\\Users\\trung\\Anaconda3\\lib\\site-packages\\ipykernel_launcher.py:6: SettingWithCopyWarning: \n",
      "A value is trying to be set on a copy of a slice from a DataFrame.\n",
      "Try using .loc[row_indexer,col_indexer] = value instead\n",
      "\n",
      "See the caveats in the documentation: http://pandas.pydata.org/pandas-docs/stable/user_guide/indexing.html#returning-a-view-versus-a-copy\n",
      "  \n",
      "C:\\Users\\trung\\Anaconda3\\lib\\site-packages\\ipykernel_launcher.py:6: SettingWithCopyWarning: \n",
      "A value is trying to be set on a copy of a slice from a DataFrame.\n",
      "Try using .loc[row_indexer,col_indexer] = value instead\n",
      "\n",
      "See the caveats in the documentation: http://pandas.pydata.org/pandas-docs/stable/user_guide/indexing.html#returning-a-view-versus-a-copy\n",
      "  \n",
      "C:\\Users\\trung\\Anaconda3\\lib\\site-packages\\ipykernel_launcher.py:6: SettingWithCopyWarning: \n",
      "A value is trying to be set on a copy of a slice from a DataFrame.\n",
      "Try using .loc[row_indexer,col_indexer] = value instead\n",
      "\n",
      "See the caveats in the documentation: http://pandas.pydata.org/pandas-docs/stable/user_guide/indexing.html#returning-a-view-versus-a-copy\n",
      "  \n",
      "C:\\Users\\trung\\Anaconda3\\lib\\site-packages\\ipykernel_launcher.py:6: SettingWithCopyWarning: \n",
      "A value is trying to be set on a copy of a slice from a DataFrame.\n",
      "Try using .loc[row_indexer,col_indexer] = value instead\n",
      "\n",
      "See the caveats in the documentation: http://pandas.pydata.org/pandas-docs/stable/user_guide/indexing.html#returning-a-view-versus-a-copy\n",
      "  \n"
     ]
    },
    {
     "data": {
      "text/plain": [
       "(108785, 11)"
      ]
     },
     "execution_count": 49,
     "metadata": {},
     "output_type": "execute_result"
    }
   ],
   "source": [
    "from sklearn.preprocessing import MinMaxScaler \n",
    "scaler = MinMaxScaler()\n",
    "ft_normalized = df[normalized] \n",
    "\n",
    "for colum in normalized:\n",
    "    ft_normalized[colum] = scaler.fit_transform(ft_normalized[colum].values.reshape(-1, 1))\n",
    "\n",
    "ft_normalized = ft_normalized.values\n",
    "ft_normalized.shape"
   ]
  },
  {
   "cell_type": "code",
   "execution_count": 48,
   "metadata": {},
   "outputs": [
    {
     "name": "stderr",
     "output_type": "stream",
     "text": [
      "C:\\Users\\trung\\Anaconda3\\lib\\site-packages\\ipykernel_launcher.py:6: SettingWithCopyWarning: \n",
      "A value is trying to be set on a copy of a slice from a DataFrame.\n",
      "Try using .loc[row_indexer,col_indexer] = value instead\n",
      "\n",
      "See the caveats in the documentation: http://pandas.pydata.org/pandas-docs/stable/user_guide/indexing.html#returning-a-view-versus-a-copy\n",
      "  \n",
      "C:\\Users\\trung\\Anaconda3\\lib\\site-packages\\ipykernel_launcher.py:6: SettingWithCopyWarning: \n",
      "A value is trying to be set on a copy of a slice from a DataFrame.\n",
      "Try using .loc[row_indexer,col_indexer] = value instead\n",
      "\n",
      "See the caveats in the documentation: http://pandas.pydata.org/pandas-docs/stable/user_guide/indexing.html#returning-a-view-versus-a-copy\n",
      "  \n"
     ]
    },
    {
     "data": {
      "text/plain": [
       "(108785, 2)"
      ]
     },
     "execution_count": 48,
     "metadata": {},
     "output_type": "execute_result"
    }
   ],
   "source": [
    "from sklearn.preprocessing import MinMaxScaler \n",
    "scaler = MinMaxScaler()\n",
    "ft_dont_know = df[dont_know] \n",
    "\n",
    "for colum in dont_know:\n",
    "    ft_dont_know[colum] = scaler.fit_transform(ft_dont_know[colum].values.reshape(-1, 1))\n",
    "\n",
    "ft_dont_know = ft_dont_know.values\n",
    "ft_dont_know.shape"
   ]
  },
  {
   "cell_type": "code",
   "execution_count": 50,
   "metadata": {},
   "outputs": [
    {
     "data": {
      "text/plain": [
       "(108785, 25)"
      ]
     },
     "execution_count": 50,
     "metadata": {},
     "output_type": "execute_result"
    }
   ],
   "source": [
    "ft = np.concatenate((ft_cat, ft_dn_normalize), axis=1)\n",
    "\n",
    "\n",
    "ft = np.concatenate((ft,ft_date,ft_normalized,ft_dont_know), axis = 1)\n",
    "\n",
    "ft.shape"
   ]
  },
  {
   "cell_type": "code",
   "execution_count": 51,
   "metadata": {},
   "outputs": [
    {
     "name": "stdout",
     "output_type": "stream",
     "text": [
      "(81588, 25)\n",
      "(27197, 25)\n",
      "(81588,)\n",
      "(27197,)\n"
     ]
    }
   ],
   "source": [
    "from sklearn.model_selection import train_test_split\n",
    "\n",
    "X_train, X_test, y_train, y_test = train_test_split(ft, y, test_size=0.25, random_state=42)\n",
    "print(X_train.shape)\n",
    "print(X_test.shape)\n",
    "print(y_train.shape)\n",
    "print(y_test.shape)"
   ]
  },
  {
   "cell_type": "code",
   "execution_count": 56,
   "metadata": {},
   "outputs": [
    {
     "name": "stdout",
     "output_type": "stream",
     "text": [
      "84.24090892377836\n",
      "84.64536529764312\n",
      "84.95789976835681\n",
      "85.3219105048351\n",
      "85.27778799132257\n",
      "85.40280177960804\n",
      "85.36970989447366\n",
      "85.7043056219436\n",
      "85.79255064896863\n",
      "86.0352244732875\n",
      "85.53884619627165\n",
      "86.09037761517814\n",
      "85.88079567599367\n",
      "85.96904070301872\n",
      "85.96536382689267\n",
      "85.8918263043718\n",
      "85.96904070301872\n",
      "86.10876199580836\n",
      "85.74842813545611\n",
      "85.93227194175829\n",
      "85.96904070301872\n",
      "85.66753686068317\n",
      "85.74107438320404\n",
      "85.91021068500201\n",
      "[MAX]: 86.10876199580836\n"
     ]
    }
   ],
   "source": [
    "from sklearn.tree import DecisionTreeClassifier\n",
    "from sklearn.metrics import accuracy_score\n",
    "max = 0\n",
    "for i in range(24):\n",
    "    clf = DecisionTreeClassifier(max_features=i+1,random_state=100)\n",
    "    clf.fit(X_train, y_train)\n",
    "    y_pred = clf.predict(X_test) \n",
    "    acc = accuracy_score(y_test,y_pred)*100\n",
    "    print( acc )\n",
    "    if acc > max:\n",
    "        max =  acc\n",
    "print('[MAX]:', max)"
   ]
  },
  {
   "cell_type": "code",
   "execution_count": 65,
   "metadata": {},
   "outputs": [
    {
     "name": "stdout",
     "output_type": "stream",
     "text": [
      "83.88792881567821\n",
      "84.92480788322241\n",
      "85.75945876383425\n",
      "85.652829356179\n",
      "85.77048939221238\n",
      "85.86241129536346\n",
      "85.51678493951539\n",
      "85.88079567599367\n",
      "85.99110195977498\n",
      "85.84770379085928\n",
      "85.91021068500201\n",
      "86.12346950031254\n",
      "85.99477883590102\n",
      "86.24848328859801\n",
      "86.24480641247196\n",
      "86.32569768724491\n",
      "85.6197374710446\n",
      "85.81828878185094\n",
      "86.10140824355628\n",
      "86.16391513769901\n",
      "86.08302386292605\n",
      "86.16759201382506\n",
      "86.09773136743023\n",
      "86.35878957237931\n",
      "[MAX]: 86.35878957237931\n"
     ]
    }
   ],
   "source": [
    "max = 0\n",
    "for i in range(24):\n",
    "    clf = DecisionTreeClassifier(criterion = 'entropy',max_features=i+1,random_state=100)\n",
    "    clf.fit(X_train, y_train)\n",
    "    y_pred = clf.predict(X_test) \n",
    "    acc = accuracy_score(y_test,y_pred)*100\n",
    "    print( acc )\n",
    "    if acc > max:\n",
    "        max =  acc\n",
    "print('[MAX]:', max)"
   ]
  },
  {
   "cell_type": "code",
   "execution_count": 66,
   "metadata": {},
   "outputs": [
    {
     "name": "stdout",
     "output_type": "stream",
     "text": [
      "77.80269882707651\n",
      "78.67411846894879\n",
      "79.11166672794793\n",
      "79.74041254550134\n",
      "82.3767327278744\n",
      "84.00191197558554\n",
      "84.57182777512226\n",
      "85.29984924807883\n",
      "85.59399933816229\n",
      "86.13450012869066\n",
      "86.50586461742104\n",
      "86.80369158363055\n",
      "87.11990293047027\n",
      "87.71923373901534\n",
      "87.9619075633342\n",
      "88.32959517593852\n",
      "88.54285399124903\n",
      "88.81861970070229\n",
      "89.06129352502114\n",
      "89.02084788763467\n",
      "89.25249108357539\n",
      "89.42898113762547\n",
      "[MAX]: 89.42898113762547\n"
     ]
    }
   ],
   "source": [
    "from sklearn.ensemble import RandomForestClassifier\n",
    "max = 0\n",
    "for i in range(2,24):\n",
    "    clf = RandomForestClassifier(n_estimators = 50, criterion = 'gini', max_depth=i, random_state=100)\n",
    "    clf.fit(X_train, y_train)\n",
    "    y_pred = clf.predict(X_test) \n",
    "    acc = accuracy_score(y_test,y_pred)*100\n",
    "    print( acc )\n",
    "    if acc > max:\n",
    "        max =  acc\n",
    "print('[MAX]:', max)"
   ]
  },
  {
   "cell_type": "code",
   "execution_count": 64,
   "metadata": {},
   "outputs": [
    {
     "name": "stdout",
     "output_type": "stream",
     "text": [
      "77.59311688789204\n",
      "79.22564988785527\n",
      "79.14843548920837\n",
      "79.69261315586277\n",
      "81.47957495311982\n",
      "83.53494870757804\n",
      "84.32547707467735\n",
      "84.98731477736516\n",
      "85.40280177960804\n",
      "85.87711879986763\n",
      "86.3404051917491\n",
      "86.75221531786595\n",
      "87.20447108136928\n",
      "87.69349560613303\n",
      "87.9288156781998\n",
      "88.11265948450196\n",
      "88.49137772548443\n",
      "88.70463654079495\n",
      "88.91054160385336\n",
      "89.0576166488951\n",
      "89.36279736735669\n",
      "89.39956612861712\n",
      "[MAX]: 89.39956612861712\n"
     ]
    }
   ],
   "source": [
    "max = 0\n",
    "for i in range(2,24):\n",
    "    clf = RandomForestClassifier(n_estimators = 50, criterion = 'entropy', max_depth=i, random_state=100)\n",
    "    clf.fit(X_train, y_train)\n",
    "    y_pred = clf.predict(X_test) \n",
    "    acc = accuracy_score(y_test,y_pred)*100\n",
    "    print( acc )\n",
    "    if acc > max:\n",
    "        max =  acc\n",
    "print('[MAX]:', max)"
   ]
  },
  {
   "cell_type": "code",
   "execution_count": 71,
   "metadata": {},
   "outputs": [],
   "source": [
    "from sklearn.neural_network import  MLPClassifier\n",
    "clf = MLPClassifier(max_iter= 2000).fit(X_train, y_train)"
   ]
  },
  {
   "cell_type": "code",
   "execution_count": 72,
   "metadata": {},
   "outputs": [
    {
     "name": "stdout",
     "output_type": "stream",
     "text": [
      "Hieu qua mo hinh dat : 83.83277567378755\n"
     ]
    }
   ],
   "source": [
    "predict = clf.predict(X_test)\n",
    "from sklearn.metrics import accuracy_score\n",
    "print(\"Hieu qua mo hinh dat :\", 100* accuracy_score(y_test, predict.tolist() ) )"
   ]
  },
  {
   "cell_type": "code",
   "execution_count": 73,
   "metadata": {},
   "outputs": [
    {
     "name": "stderr",
     "output_type": "stream",
     "text": [
      "C:\\Users\\trung\\Anaconda3\\lib\\site-packages\\sklearn\\linear_model\\logistic.py:432: FutureWarning: Default solver will be changed to 'lbfgs' in 0.22. Specify a solver to silence this warning.\n",
      "  FutureWarning)\n"
     ]
    },
    {
     "name": "stdout",
     "output_type": "stream",
     "text": [
      "78.4718902820164\n"
     ]
    }
   ],
   "source": [
    "from sklearn.linear_model import LogisticRegression\n",
    "clf = LogisticRegression(random_state=0).fit(X_train, y_train)\n",
    "y_pred = clf.predict(X_test) \n",
    "acc = accuracy_score(y_test,y_pred)*100\n",
    "print(acc)"
   ]
  }
 ],
 "metadata": {
  "kernelspec": {
   "display_name": "Python 3",
   "language": "python",
   "name": "python3"
  },
  "language_info": {
   "codemirror_mode": {
    "name": "ipython",
    "version": 3
   },
   "file_extension": ".py",
   "mimetype": "text/x-python",
   "name": "python",
   "nbconvert_exporter": "python",
   "pygments_lexer": "ipython3",
   "version": "3.7.4"
  }
 },
 "nbformat": 4,
 "nbformat_minor": 4
}
